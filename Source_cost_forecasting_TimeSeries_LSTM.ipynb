{
  "nbformat": 4,
  "nbformat_minor": 0,
  "metadata": {
    "accelerator": "GPU",
    "colab": {
      "name": "time_series_LSTM.ipynb",
      "provenance": [],
      "collapsed_sections": []
    },
    "kernelspec": {
      "display_name": "Python 3",
      "name": "python3"
    },
    "language_info": {
      "name": "python"
    }
  },
  "cells": [
    {
      "cell_type": "code",
      "metadata": {
        "id": "Fi8gcNOSuI2I"
      },
      "source": [
        "import math # Mathematical functions \n",
        "import numpy as np # Fundamental package for scientific computing with Python\n",
        "import pandas as pd # Additional functions for analysing and manipulating data\n",
        "from datetime import date, timedelta, datetime # Date Functions\n",
        "from pandas.plotting import register_matplotlib_converters # This function adds plotting functions for calender dates\n",
        "import matplotlib.pyplot as plt # Important package for visualization - we use this to plot the market data\n",
        "import matplotlib.dates as mdates # Formatting dates\n",
        "from sklearn.metrics import mean_absolute_error, mean_squared_error # Packages for measuring model performance / errors\n",
        "from keras.models import Sequential, load_model # Deep learning library, used for neural networks\n",
        "from keras.layers import LSTM, Dense, Dropout # Deep learning classes for recurrent and regular densely-connected layers\n",
        "from keras.callbacks import EarlyStopping # EarlyStopping during model training\n",
        "import seaborn as sns\n",
        "from sklearn import preprocessing\n",
        "import calendar\n",
        "from sklearn.model_selection import TimeSeriesSplit"
      ],
      "execution_count": 16,
      "outputs": []
    },
    {
      "cell_type": "code",
      "metadata": {
        "id": "kWZvQpOnudXk"
      },
      "source": [
        "data = pd.read_csv(\"/content/drive/MyDrive/temp/train.csv\")"
      ],
      "execution_count": 20,
      "outputs": []
    },
    {
      "cell_type": "code",
      "metadata": {
        "id": "Duqj-DTBv6LR",
        "colab": {
          "base_uri": "https://localhost:8080/",
          "height": 221
        },
        "outputId": "f4901e23-3c91-4bbc-b980-9f8cb0cce57a"
      },
      "source": [
        "data.head()"
      ],
      "execution_count": 3,
      "outputs": [
        {
          "output_type": "execute_result",
          "data": {
            "text/html": [
              "<div>\n",
              "<style scoped>\n",
              "    .dataframe tbody tr th:only-of-type {\n",
              "        vertical-align: middle;\n",
              "    }\n",
              "\n",
              "    .dataframe tbody tr th {\n",
              "        vertical-align: top;\n",
              "    }\n",
              "\n",
              "    .dataframe thead th {\n",
              "        text-align: right;\n",
              "    }\n",
              "</style>\n",
              "<table border=\"1\" class=\"dataframe\">\n",
              "  <thead>\n",
              "    <tr style=\"text-align: right;\">\n",
              "      <th></th>\n",
              "      <th>ProductType</th>\n",
              "      <th>Manufacturer</th>\n",
              "      <th>Area Code</th>\n",
              "      <th>Sourcing Channel</th>\n",
              "      <th>Product Size</th>\n",
              "      <th>Product Type</th>\n",
              "      <th>Month of Sourcing</th>\n",
              "      <th>Sourcing Cost</th>\n",
              "    </tr>\n",
              "  </thead>\n",
              "  <tbody>\n",
              "    <tr>\n",
              "      <th>0</th>\n",
              "      <td>NTM3</td>\n",
              "      <td>X1</td>\n",
              "      <td>A28</td>\n",
              "      <td>WHOLESALE</td>\n",
              "      <td>Large</td>\n",
              "      <td>Powder</td>\n",
              "      <td>May-21</td>\n",
              "      <td>10.16</td>\n",
              "    </tr>\n",
              "    <tr>\n",
              "      <th>1</th>\n",
              "      <td>NTM2</td>\n",
              "      <td>X1</td>\n",
              "      <td>A9</td>\n",
              "      <td>DIRECT</td>\n",
              "      <td>Large</td>\n",
              "      <td>Powder</td>\n",
              "      <td>Oct-20</td>\n",
              "      <td>134.28</td>\n",
              "    </tr>\n",
              "    <tr>\n",
              "      <th>2</th>\n",
              "      <td>NTM3</td>\n",
              "      <td>X2</td>\n",
              "      <td>A20</td>\n",
              "      <td>DIRECT</td>\n",
              "      <td>Large</td>\n",
              "      <td>Powder</td>\n",
              "      <td>Dec-20</td>\n",
              "      <td>12.46</td>\n",
              "    </tr>\n",
              "    <tr>\n",
              "      <th>3</th>\n",
              "      <td>NTM3</td>\n",
              "      <td>X1</td>\n",
              "      <td>A18</td>\n",
              "      <td>WHOLESALE</td>\n",
              "      <td>Small</td>\n",
              "      <td>Powder</td>\n",
              "      <td>Feb-21</td>\n",
              "      <td>107.22</td>\n",
              "    </tr>\n",
              "    <tr>\n",
              "      <th>4</th>\n",
              "      <td>NTM2</td>\n",
              "      <td>X1</td>\n",
              "      <td>A28</td>\n",
              "      <td>DIRECT</td>\n",
              "      <td>Large</td>\n",
              "      <td>Liquid</td>\n",
              "      <td>Nov-20</td>\n",
              "      <td>197.76</td>\n",
              "    </tr>\n",
              "  </tbody>\n",
              "</table>\n",
              "</div>"
            ],
            "text/plain": [
              "  ProductType Manufacturer  ... Month of Sourcing Sourcing Cost\n",
              "0        NTM3           X1  ...            May-21         10.16\n",
              "1        NTM2           X1  ...            Oct-20        134.28\n",
              "2        NTM3           X2  ...            Dec-20         12.46\n",
              "3        NTM3           X1  ...            Feb-21        107.22\n",
              "4        NTM2           X1  ...            Nov-20        197.76\n",
              "\n",
              "[5 rows x 8 columns]"
            ]
          },
          "metadata": {
            "tags": []
          },
          "execution_count": 3
        }
      ]
    },
    {
      "cell_type": "code",
      "metadata": {
        "colab": {
          "base_uri": "https://localhost:8080/"
        },
        "id": "Xvy7mTklwCfW",
        "outputId": "8c23cba7-b9be-4de7-87ec-25fe54cfc2fc"
      },
      "source": [
        "# check columns with data type object\n",
        "col_list = [c for c in data.columns if data[c].dtype == 'object' and c != 'timestamp']\n",
        "print(col_list)"
      ],
      "execution_count": 21,
      "outputs": [
        {
          "output_type": "stream",
          "text": [
            "['ProductType', 'Manufacturer', 'Area Code', 'Sourcing Channel', 'Product Size', 'Product Type', 'Month of Sourcing']\n"
          ],
          "name": "stdout"
        }
      ]
    },
    {
      "cell_type": "code",
      "metadata": {
        "id": "WUwbxVKFwFln",
        "colab": {
          "base_uri": "https://localhost:8080/",
          "height": 455
        },
        "outputId": "bf154d29-1220-45e8-a5c3-f009895678ea"
      },
      "source": [
        "#Checking null are available in dataframe columns\n",
        "data.isnull().sum()\n",
        "data.groupby(by=['Month of Sourcing']).count()"
      ],
      "execution_count": 22,
      "outputs": [
        {
          "output_type": "execute_result",
          "data": {
            "text/html": [
              "<div>\n",
              "<style scoped>\n",
              "    .dataframe tbody tr th:only-of-type {\n",
              "        vertical-align: middle;\n",
              "    }\n",
              "\n",
              "    .dataframe tbody tr th {\n",
              "        vertical-align: top;\n",
              "    }\n",
              "\n",
              "    .dataframe thead th {\n",
              "        text-align: right;\n",
              "    }\n",
              "</style>\n",
              "<table border=\"1\" class=\"dataframe\">\n",
              "  <thead>\n",
              "    <tr style=\"text-align: right;\">\n",
              "      <th></th>\n",
              "      <th>ProductType</th>\n",
              "      <th>Manufacturer</th>\n",
              "      <th>Area Code</th>\n",
              "      <th>Sourcing Channel</th>\n",
              "      <th>Product Size</th>\n",
              "      <th>Product Type</th>\n",
              "      <th>Sourcing Cost</th>\n",
              "    </tr>\n",
              "    <tr>\n",
              "      <th>Month of Sourcing</th>\n",
              "      <th></th>\n",
              "      <th></th>\n",
              "      <th></th>\n",
              "      <th></th>\n",
              "      <th></th>\n",
              "      <th></th>\n",
              "      <th></th>\n",
              "    </tr>\n",
              "  </thead>\n",
              "  <tbody>\n",
              "    <tr>\n",
              "      <th>Apr-21</th>\n",
              "      <td>52438</td>\n",
              "      <td>52438</td>\n",
              "      <td>52438</td>\n",
              "      <td>52438</td>\n",
              "      <td>52438</td>\n",
              "      <td>52438</td>\n",
              "      <td>52438</td>\n",
              "    </tr>\n",
              "    <tr>\n",
              "      <th>Aug-20</th>\n",
              "      <td>40640</td>\n",
              "      <td>40640</td>\n",
              "      <td>40640</td>\n",
              "      <td>40640</td>\n",
              "      <td>40640</td>\n",
              "      <td>40640</td>\n",
              "      <td>40640</td>\n",
              "    </tr>\n",
              "    <tr>\n",
              "      <th>Dec-20</th>\n",
              "      <td>52752</td>\n",
              "      <td>52752</td>\n",
              "      <td>52752</td>\n",
              "      <td>52752</td>\n",
              "      <td>52752</td>\n",
              "      <td>52752</td>\n",
              "      <td>52752</td>\n",
              "    </tr>\n",
              "    <tr>\n",
              "      <th>Feb-21</th>\n",
              "      <td>50562</td>\n",
              "      <td>50562</td>\n",
              "      <td>50562</td>\n",
              "      <td>50562</td>\n",
              "      <td>50562</td>\n",
              "      <td>50562</td>\n",
              "      <td>50562</td>\n",
              "    </tr>\n",
              "    <tr>\n",
              "      <th>Jan-21</th>\n",
              "      <td>50844</td>\n",
              "      <td>50844</td>\n",
              "      <td>50844</td>\n",
              "      <td>50844</td>\n",
              "      <td>50844</td>\n",
              "      <td>50844</td>\n",
              "      <td>50844</td>\n",
              "    </tr>\n",
              "    <tr>\n",
              "      <th>Jul-20</th>\n",
              "      <td>42469</td>\n",
              "      <td>42469</td>\n",
              "      <td>42469</td>\n",
              "      <td>42469</td>\n",
              "      <td>42469</td>\n",
              "      <td>42469</td>\n",
              "      <td>42469</td>\n",
              "    </tr>\n",
              "    <tr>\n",
              "      <th>Mar-21</th>\n",
              "      <td>56643</td>\n",
              "      <td>56643</td>\n",
              "      <td>56643</td>\n",
              "      <td>56643</td>\n",
              "      <td>56643</td>\n",
              "      <td>56643</td>\n",
              "      <td>56643</td>\n",
              "    </tr>\n",
              "    <tr>\n",
              "      <th>May-21</th>\n",
              "      <td>53172</td>\n",
              "      <td>53172</td>\n",
              "      <td>53172</td>\n",
              "      <td>53172</td>\n",
              "      <td>53172</td>\n",
              "      <td>53172</td>\n",
              "      <td>53172</td>\n",
              "    </tr>\n",
              "    <tr>\n",
              "      <th>Nov-20</th>\n",
              "      <td>60446</td>\n",
              "      <td>60446</td>\n",
              "      <td>60446</td>\n",
              "      <td>60446</td>\n",
              "      <td>60446</td>\n",
              "      <td>60446</td>\n",
              "      <td>60446</td>\n",
              "    </tr>\n",
              "    <tr>\n",
              "      <th>Oct-20</th>\n",
              "      <td>46215</td>\n",
              "      <td>46215</td>\n",
              "      <td>46215</td>\n",
              "      <td>46215</td>\n",
              "      <td>46215</td>\n",
              "      <td>46215</td>\n",
              "      <td>46215</td>\n",
              "    </tr>\n",
              "    <tr>\n",
              "      <th>Sep-20</th>\n",
              "      <td>43995</td>\n",
              "      <td>43995</td>\n",
              "      <td>43995</td>\n",
              "      <td>43995</td>\n",
              "      <td>43995</td>\n",
              "      <td>43995</td>\n",
              "      <td>43995</td>\n",
              "    </tr>\n",
              "  </tbody>\n",
              "</table>\n",
              "</div>"
            ],
            "text/plain": [
              "                   ProductType  Manufacturer  ...  Product Type  Sourcing Cost\n",
              "Month of Sourcing                             ...                             \n",
              "Apr-21                   52438         52438  ...         52438          52438\n",
              "Aug-20                   40640         40640  ...         40640          40640\n",
              "Dec-20                   52752         52752  ...         52752          52752\n",
              "Feb-21                   50562         50562  ...         50562          50562\n",
              "Jan-21                   50844         50844  ...         50844          50844\n",
              "Jul-20                   42469         42469  ...         42469          42469\n",
              "Mar-21                   56643         56643  ...         56643          56643\n",
              "May-21                   53172         53172  ...         53172          53172\n",
              "Nov-20                   60446         60446  ...         60446          60446\n",
              "Oct-20                   46215         46215  ...         46215          46215\n",
              "Sep-20                   43995         43995  ...         43995          43995\n",
              "\n",
              "[11 rows x 7 columns]"
            ]
          },
          "metadata": {
            "tags": []
          },
          "execution_count": 22
        }
      ]
    },
    {
      "cell_type": "code",
      "metadata": {
        "id": "rYhRf5qawLxX"
      },
      "source": [
        "#pre-processing the data.\n",
        "le = preprocessing.LabelEncoder()\n",
        "data['ProductType']  = le.fit_transform(data['ProductType'])\n",
        "data['Manufacturer']  = le.fit_transform(data['Manufacturer'])\n",
        "data['Area Code']  = le.fit_transform(data['Area Code'])\n",
        "data['Sourcing Channel']  = le.fit_transform(data['Sourcing Channel'])\n",
        "data['Product Size']  = le.fit_transform(data['Product Size'])\n",
        "data['Product Type']  = le.fit_transform(data['Product Type'])"
      ],
      "execution_count": 23,
      "outputs": []
    },
    {
      "cell_type": "code",
      "metadata": {
        "id": "uwRJv5sq2D9l"
      },
      "source": [
        "data['Month of Sourcing'] = pd.to_datetime([f'20{y}-{m}-01' for y, m in zip(data['Month of Sourcing'].str.split('-').str[1], data['Month of Sourcing'].str.split('-').str[0])])"
      ],
      "execution_count": 24,
      "outputs": []
    },
    {
      "cell_type": "code",
      "metadata": {
        "colab": {
          "base_uri": "https://localhost:8080/",
          "height": 436
        },
        "id": "sAKK1jt8MrsE",
        "outputId": "51a934f0-43dc-46ef-e701-1cf55a3568cc"
      },
      "source": [
        "data = data.sort_values(by='Month of Sourcing', ascending=False)\n",
        "data"
      ],
      "execution_count": 25,
      "outputs": [
        {
          "output_type": "execute_result",
          "data": {
            "text/html": [
              "<div>\n",
              "<style scoped>\n",
              "    .dataframe tbody tr th:only-of-type {\n",
              "        vertical-align: middle;\n",
              "    }\n",
              "\n",
              "    .dataframe tbody tr th {\n",
              "        vertical-align: top;\n",
              "    }\n",
              "\n",
              "    .dataframe thead th {\n",
              "        text-align: right;\n",
              "    }\n",
              "</style>\n",
              "<table border=\"1\" class=\"dataframe\">\n",
              "  <thead>\n",
              "    <tr style=\"text-align: right;\">\n",
              "      <th></th>\n",
              "      <th>ProductType</th>\n",
              "      <th>Manufacturer</th>\n",
              "      <th>Area Code</th>\n",
              "      <th>Sourcing Channel</th>\n",
              "      <th>Product Size</th>\n",
              "      <th>Product Type</th>\n",
              "      <th>Month of Sourcing</th>\n",
              "      <th>Sourcing Cost</th>\n",
              "    </tr>\n",
              "  </thead>\n",
              "  <tbody>\n",
              "    <tr>\n",
              "      <th>0</th>\n",
              "      <td>2</td>\n",
              "      <td>0</td>\n",
              "      <td>19</td>\n",
              "      <td>3</td>\n",
              "      <td>1</td>\n",
              "      <td>1</td>\n",
              "      <td>2021-05-01</td>\n",
              "      <td>10.16</td>\n",
              "    </tr>\n",
              "    <tr>\n",
              "      <th>410215</th>\n",
              "      <td>2</td>\n",
              "      <td>0</td>\n",
              "      <td>16</td>\n",
              "      <td>0</td>\n",
              "      <td>2</td>\n",
              "      <td>1</td>\n",
              "      <td>2021-05-01</td>\n",
              "      <td>64.46</td>\n",
              "    </tr>\n",
              "    <tr>\n",
              "      <th>227368</th>\n",
              "      <td>1</td>\n",
              "      <td>0</td>\n",
              "      <td>2</td>\n",
              "      <td>0</td>\n",
              "      <td>1</td>\n",
              "      <td>0</td>\n",
              "      <td>2021-05-01</td>\n",
              "      <td>151.70</td>\n",
              "    </tr>\n",
              "    <tr>\n",
              "      <th>136731</th>\n",
              "      <td>0</td>\n",
              "      <td>0</td>\n",
              "      <td>44</td>\n",
              "      <td>0</td>\n",
              "      <td>1</td>\n",
              "      <td>1</td>\n",
              "      <td>2021-05-01</td>\n",
              "      <td>146.98</td>\n",
              "    </tr>\n",
              "    <tr>\n",
              "      <th>227357</th>\n",
              "      <td>2</td>\n",
              "      <td>0</td>\n",
              "      <td>16</td>\n",
              "      <td>0</td>\n",
              "      <td>2</td>\n",
              "      <td>1</td>\n",
              "      <td>2021-05-01</td>\n",
              "      <td>73.15</td>\n",
              "    </tr>\n",
              "    <tr>\n",
              "      <th>...</th>\n",
              "      <td>...</td>\n",
              "      <td>...</td>\n",
              "      <td>...</td>\n",
              "      <td>...</td>\n",
              "      <td>...</td>\n",
              "      <td>...</td>\n",
              "      <td>...</td>\n",
              "      <td>...</td>\n",
              "    </tr>\n",
              "    <tr>\n",
              "      <th>420994</th>\n",
              "      <td>0</td>\n",
              "      <td>1</td>\n",
              "      <td>36</td>\n",
              "      <td>0</td>\n",
              "      <td>2</td>\n",
              "      <td>1</td>\n",
              "      <td>2020-07-01</td>\n",
              "      <td>157.09</td>\n",
              "    </tr>\n",
              "    <tr>\n",
              "      <th>67975</th>\n",
              "      <td>0</td>\n",
              "      <td>1</td>\n",
              "      <td>37</td>\n",
              "      <td>0</td>\n",
              "      <td>1</td>\n",
              "      <td>0</td>\n",
              "      <td>2020-07-01</td>\n",
              "      <td>0.00</td>\n",
              "    </tr>\n",
              "    <tr>\n",
              "      <th>420992</th>\n",
              "      <td>0</td>\n",
              "      <td>0</td>\n",
              "      <td>21</td>\n",
              "      <td>0</td>\n",
              "      <td>2</td>\n",
              "      <td>1</td>\n",
              "      <td>2020-07-01</td>\n",
              "      <td>136.92</td>\n",
              "    </tr>\n",
              "    <tr>\n",
              "      <th>210469</th>\n",
              "      <td>0</td>\n",
              "      <td>1</td>\n",
              "      <td>13</td>\n",
              "      <td>0</td>\n",
              "      <td>2</td>\n",
              "      <td>1</td>\n",
              "      <td>2020-07-01</td>\n",
              "      <td>71.85</td>\n",
              "    </tr>\n",
              "    <tr>\n",
              "      <th>338840</th>\n",
              "      <td>1</td>\n",
              "      <td>0</td>\n",
              "      <td>40</td>\n",
              "      <td>0</td>\n",
              "      <td>1</td>\n",
              "      <td>1</td>\n",
              "      <td>2020-07-01</td>\n",
              "      <td>136.47</td>\n",
              "    </tr>\n",
              "  </tbody>\n",
              "</table>\n",
              "<p>550176 rows × 8 columns</p>\n",
              "</div>"
            ],
            "text/plain": [
              "        ProductType  Manufacturer  ...  Month of Sourcing  Sourcing Cost\n",
              "0                 2             0  ...         2021-05-01          10.16\n",
              "410215            2             0  ...         2021-05-01          64.46\n",
              "227368            1             0  ...         2021-05-01         151.70\n",
              "136731            0             0  ...         2021-05-01         146.98\n",
              "227357            2             0  ...         2021-05-01          73.15\n",
              "...             ...           ...  ...                ...            ...\n",
              "420994            0             1  ...         2020-07-01         157.09\n",
              "67975             0             1  ...         2020-07-01           0.00\n",
              "420992            0             0  ...         2020-07-01         136.92\n",
              "210469            0             1  ...         2020-07-01          71.85\n",
              "338840            1             0  ...         2020-07-01         136.47\n",
              "\n",
              "[550176 rows x 8 columns]"
            ]
          },
          "metadata": {
            "tags": []
          },
          "execution_count": 25
        }
      ]
    },
    {
      "cell_type": "code",
      "metadata": {
        "id": "egeQ8XDM6ENV"
      },
      "source": [
        "data = data.set_index('Month of Sourcing')"
      ],
      "execution_count": 26,
      "outputs": []
    },
    {
      "cell_type": "code",
      "metadata": {
        "colab": {
          "base_uri": "https://localhost:8080/",
          "height": 484
        },
        "id": "V3iOK7l8K7Xe",
        "outputId": "cbb0fb58-23f0-49e1-cd84-7b0cc7f52ff7"
      },
      "source": [
        "data"
      ],
      "execution_count": 27,
      "outputs": [
        {
          "output_type": "execute_result",
          "data": {
            "text/html": [
              "<div>\n",
              "<style scoped>\n",
              "    .dataframe tbody tr th:only-of-type {\n",
              "        vertical-align: middle;\n",
              "    }\n",
              "\n",
              "    .dataframe tbody tr th {\n",
              "        vertical-align: top;\n",
              "    }\n",
              "\n",
              "    .dataframe thead th {\n",
              "        text-align: right;\n",
              "    }\n",
              "</style>\n",
              "<table border=\"1\" class=\"dataframe\">\n",
              "  <thead>\n",
              "    <tr style=\"text-align: right;\">\n",
              "      <th></th>\n",
              "      <th>ProductType</th>\n",
              "      <th>Manufacturer</th>\n",
              "      <th>Area Code</th>\n",
              "      <th>Sourcing Channel</th>\n",
              "      <th>Product Size</th>\n",
              "      <th>Product Type</th>\n",
              "      <th>Sourcing Cost</th>\n",
              "    </tr>\n",
              "    <tr>\n",
              "      <th>Month of Sourcing</th>\n",
              "      <th></th>\n",
              "      <th></th>\n",
              "      <th></th>\n",
              "      <th></th>\n",
              "      <th></th>\n",
              "      <th></th>\n",
              "      <th></th>\n",
              "    </tr>\n",
              "  </thead>\n",
              "  <tbody>\n",
              "    <tr>\n",
              "      <th>2021-05-01</th>\n",
              "      <td>2</td>\n",
              "      <td>0</td>\n",
              "      <td>19</td>\n",
              "      <td>3</td>\n",
              "      <td>1</td>\n",
              "      <td>1</td>\n",
              "      <td>10.16</td>\n",
              "    </tr>\n",
              "    <tr>\n",
              "      <th>2021-05-01</th>\n",
              "      <td>2</td>\n",
              "      <td>0</td>\n",
              "      <td>16</td>\n",
              "      <td>0</td>\n",
              "      <td>2</td>\n",
              "      <td>1</td>\n",
              "      <td>64.46</td>\n",
              "    </tr>\n",
              "    <tr>\n",
              "      <th>2021-05-01</th>\n",
              "      <td>1</td>\n",
              "      <td>0</td>\n",
              "      <td>2</td>\n",
              "      <td>0</td>\n",
              "      <td>1</td>\n",
              "      <td>0</td>\n",
              "      <td>151.70</td>\n",
              "    </tr>\n",
              "    <tr>\n",
              "      <th>2021-05-01</th>\n",
              "      <td>0</td>\n",
              "      <td>0</td>\n",
              "      <td>44</td>\n",
              "      <td>0</td>\n",
              "      <td>1</td>\n",
              "      <td>1</td>\n",
              "      <td>146.98</td>\n",
              "    </tr>\n",
              "    <tr>\n",
              "      <th>2021-05-01</th>\n",
              "      <td>2</td>\n",
              "      <td>0</td>\n",
              "      <td>16</td>\n",
              "      <td>0</td>\n",
              "      <td>2</td>\n",
              "      <td>1</td>\n",
              "      <td>73.15</td>\n",
              "    </tr>\n",
              "    <tr>\n",
              "      <th>...</th>\n",
              "      <td>...</td>\n",
              "      <td>...</td>\n",
              "      <td>...</td>\n",
              "      <td>...</td>\n",
              "      <td>...</td>\n",
              "      <td>...</td>\n",
              "      <td>...</td>\n",
              "    </tr>\n",
              "    <tr>\n",
              "      <th>2020-07-01</th>\n",
              "      <td>0</td>\n",
              "      <td>1</td>\n",
              "      <td>36</td>\n",
              "      <td>0</td>\n",
              "      <td>2</td>\n",
              "      <td>1</td>\n",
              "      <td>157.09</td>\n",
              "    </tr>\n",
              "    <tr>\n",
              "      <th>2020-07-01</th>\n",
              "      <td>0</td>\n",
              "      <td>1</td>\n",
              "      <td>37</td>\n",
              "      <td>0</td>\n",
              "      <td>1</td>\n",
              "      <td>0</td>\n",
              "      <td>0.00</td>\n",
              "    </tr>\n",
              "    <tr>\n",
              "      <th>2020-07-01</th>\n",
              "      <td>0</td>\n",
              "      <td>0</td>\n",
              "      <td>21</td>\n",
              "      <td>0</td>\n",
              "      <td>2</td>\n",
              "      <td>1</td>\n",
              "      <td>136.92</td>\n",
              "    </tr>\n",
              "    <tr>\n",
              "      <th>2020-07-01</th>\n",
              "      <td>0</td>\n",
              "      <td>1</td>\n",
              "      <td>13</td>\n",
              "      <td>0</td>\n",
              "      <td>2</td>\n",
              "      <td>1</td>\n",
              "      <td>71.85</td>\n",
              "    </tr>\n",
              "    <tr>\n",
              "      <th>2020-07-01</th>\n",
              "      <td>1</td>\n",
              "      <td>0</td>\n",
              "      <td>40</td>\n",
              "      <td>0</td>\n",
              "      <td>1</td>\n",
              "      <td>1</td>\n",
              "      <td>136.47</td>\n",
              "    </tr>\n",
              "  </tbody>\n",
              "</table>\n",
              "<p>550176 rows × 7 columns</p>\n",
              "</div>"
            ],
            "text/plain": [
              "                   ProductType  Manufacturer  ...  Product Type  Sourcing Cost\n",
              "Month of Sourcing                             ...                             \n",
              "2021-05-01                   2             0  ...             1          10.16\n",
              "2021-05-01                   2             0  ...             1          64.46\n",
              "2021-05-01                   1             0  ...             0         151.70\n",
              "2021-05-01                   0             0  ...             1         146.98\n",
              "2021-05-01                   2             0  ...             1          73.15\n",
              "...                        ...           ...  ...           ...            ...\n",
              "2020-07-01                   0             1  ...             1         157.09\n",
              "2020-07-01                   0             1  ...             0           0.00\n",
              "2020-07-01                   0             0  ...             1         136.92\n",
              "2020-07-01                   0             1  ...             1          71.85\n",
              "2020-07-01                   1             0  ...             1         136.47\n",
              "\n",
              "[550176 rows x 7 columns]"
            ]
          },
          "metadata": {
            "tags": []
          },
          "execution_count": 27
        }
      ]
    },
    {
      "cell_type": "code",
      "metadata": {
        "colab": {
          "base_uri": "https://localhost:8080/",
          "height": 485
        },
        "id": "qFtw8AE7wbe9",
        "outputId": "64e7d987-752f-4f2b-c3c4-4c89f47d804b"
      },
      "source": [
        "# Plot line charts\n",
        "df_plot = data.copy()\n",
        "\n",
        "list_length = df_plot.shape[1]\n",
        "ncols = 2\n",
        "nrows = int(round(list_length / ncols, 0))\n",
        "\n",
        "fig, ax = plt.subplots(nrows=nrows, ncols=ncols, sharex=True, figsize=(14, 7))\n",
        "fig.subplots_adjust(hspace=0.5, wspace=0.5)\n",
        "for i in range(0, list_length):\n",
        "        ax = plt.subplot(nrows,ncols,i+1)\n",
        "        sns.lineplot(data = df_plot.iloc[:, i], ax=ax)\n",
        "        ax.set_title(df_plot.columns[i])\n",
        "        ax.tick_params(axis=\"x\", rotation=30, labelsize=10, length=0)\n",
        "        ax.xaxis.set_major_locator(mdates.AutoDateLocator())\n",
        "fig.tight_layout()\n",
        "plt.show()"
      ],
      "execution_count": null,
      "outputs": [
        {
          "output_type": "display_data",
          "data": {
            "image/png": "[encoded data removed]",
            "text/plain": [
              "<Figure size 1008x504 with 8 Axes>"
            ]
          },
          "metadata": {
            "tags": [],
            "needs_background": "light"
          }
        }
      ]
    },
    {
      "cell_type": "code",
      "metadata": {
        "colab": {
          "base_uri": "https://localhost:8080/"
        },
        "id": "y4_QSzcSssbX",
        "outputId": "0031c4e8-2496-43e9-ee4a-609729a39842"
      },
      "source": [
        "train_size = int(len(data) * 0.8)\n",
        "test_size = len(data) - train_size\n",
        "train, test = data.iloc[0:train_size], data.iloc[train_size:len(data)]\n",
        "print(len(train), len(test))"
      ],
      "execution_count": 29,
      "outputs": [
        {
          "output_type": "stream",
          "text": [
            "440140 110036\n"
          ],
          "name": "stdout"
        }
      ]
    },
    {
      "cell_type": "code",
      "metadata": {
        "colab": {
          "base_uri": "https://localhost:8080/"
        },
        "id": "R1h4tBfDcelh",
        "outputId": "a79816e2-6932-4881-82b1-5735a6b273a6"
      },
      "source": [
        "cols = [col for col in data.columns if 'Sourcing Cost' not in col]\n",
        "f_transformer = preprocessing.RobustScaler()\n",
        "f_transformer = f_transformer.fit(train[cols].to_numpy())\n",
        "train.loc[:, cols] = f_transformer.transform(\n",
        "  train[cols].to_numpy()\n",
        ")\n",
        "test.loc[:, cols] = f_transformer.transform(\n",
        "  test[cols].to_numpy()\n",
        ")"
      ],
      "execution_count": 30,
      "outputs": [
        {
          "output_type": "stream",
          "text": [
            "/usr/local/lib/python3.7/dist-packages/pandas/core/indexing.py:1734: SettingWithCopyWarning: \n",
            "A value is trying to be set on a copy of a slice from a DataFrame.\n",
            "Try using .loc[row_indexer,col_indexer] = value instead\n",
            "\n",
            "See the caveats in the documentation: https://pandas.pydata.org/pandas-docs/stable/user_guide/indexing.html#returning-a-view-versus-a-copy\n",
            "  isetter(loc, value[:, i].tolist())\n",
            "/usr/local/lib/python3.7/dist-packages/pandas/core/indexing.py:1734: SettingWithCopyWarning: \n",
            "A value is trying to be set on a copy of a slice from a DataFrame.\n",
            "Try using .loc[row_indexer,col_indexer] = value instead\n",
            "\n",
            "See the caveats in the documentation: https://pandas.pydata.org/pandas-docs/stable/user_guide/indexing.html#returning-a-view-versus-a-copy\n",
            "  isetter(loc, value[:, i].tolist())\n"
          ],
          "name": "stderr"
        }
      ]
    },
    {
      "cell_type": "code",
      "metadata": {
        "colab": {
          "base_uri": "https://localhost:8080/"
        },
        "id": "N5vXVC48qxfK",
        "outputId": "62781a9d-2fad-42bf-d70b-52a1133ee20f"
      },
      "source": [
        "cost_transformer = preprocessing.RobustScaler()\n",
        "cnt_transformer = cost_transformer.fit(train[['Sourcing Cost']])\n",
        "train['Sourcing Cost'] = cnt_transformer.transform(train[['Sourcing Cost']])\n",
        "test['Sourcing Cost'] = cnt_transformer.transform(test[['Sourcing Cost']])"
      ],
      "execution_count": 31,
      "outputs": [
        {
          "output_type": "stream",
          "text": [
            "/usr/local/lib/python3.7/dist-packages/ipykernel_launcher.py:3: SettingWithCopyWarning: \n",
            "A value is trying to be set on a copy of a slice from a DataFrame.\n",
            "Try using .loc[row_indexer,col_indexer] = value instead\n",
            "\n",
            "See the caveats in the documentation: https://pandas.pydata.org/pandas-docs/stable/user_guide/indexing.html#returning-a-view-versus-a-copy\n",
            "  This is separate from the ipykernel package so we can avoid doing imports until\n",
            "/usr/local/lib/python3.7/dist-packages/ipykernel_launcher.py:4: SettingWithCopyWarning: \n",
            "A value is trying to be set on a copy of a slice from a DataFrame.\n",
            "Try using .loc[row_indexer,col_indexer] = value instead\n",
            "\n",
            "See the caveats in the documentation: https://pandas.pydata.org/pandas-docs/stable/user_guide/indexing.html#returning-a-view-versus-a-copy\n",
            "  after removing the cwd from sys.path.\n"
          ],
          "name": "stderr"
        }
      ]
    },
    {
      "cell_type": "code",
      "metadata": {
        "id": "gm3WzkjupxJY"
      },
      "source": [
        "def create_dataset(X, y, time_steps=1):\n",
        "    Xs, ys = [], []\n",
        "    for i in range(len(X) - time_steps):\n",
        "        # print(i, time_steps)\n",
        "        Xs.append(X.iloc[i:(i + time_steps)].values)\n",
        "        ys.append(y.iloc[i + time_steps])\n",
        "    return np.array(Xs), np.array(ys)"
      ],
      "execution_count": 56,
      "outputs": []
    },
    {
      "cell_type": "code",
      "metadata": {
        "colab": {
          "base_uri": "https://localhost:8080/"
        },
        "id": "knvUaP96KnSX",
        "outputId": "9a232965-38fb-415b-998b-59c65defaa0c"
      },
      "source": [
        "range(len(test_data))"
      ],
      "execution_count": 117,
      "outputs": [
        {
          "output_type": "execute_result",
          "data": {
            "text/plain": [
              "range(0, 96)"
            ]
          },
          "metadata": {
            "tags": []
          },
          "execution_count": 117
        }
      ]
    },
    {
      "cell_type": "code",
      "metadata": {
        "colab": {
          "base_uri": "https://localhost:8080/"
        },
        "id": "M8W-XP9kp-pH",
        "outputId": "cafbf263-5dff-4404-f451-174cf1d03c2d"
      },
      "source": [
        "time_steps = 100\n",
        "# reshape to [samples, time_steps, n_features]\n",
        "X_train, y_train = create_dataset(train, train['Sourcing Cost'], time_steps)\n",
        "X_test, y_test = create_dataset(test, test['Sourcing Cost'], time_steps)\n",
        "print(X_train.shape, y_train.shape)"
      ],
      "execution_count": 18,
      "outputs": [
        {
          "output_type": "stream",
          "text": [
            "(440040, 100, 7) (440040,)\n"
          ],
          "name": "stdout"
        }
      ]
    },
    {
      "cell_type": "code",
      "metadata": {
        "colab": {
          "base_uri": "https://localhost:8080/",
          "height": 484
        },
        "id": "FU4Qavwcm7a-",
        "outputId": "7646a67e-ed2d-4d75-e55d-e84852b4add2"
      },
      "source": [
        "data"
      ],
      "execution_count": 21,
      "outputs": [
        {
          "output_type": "execute_result",
          "data": {
            "text/html": [
              "<div>\n",
              "<style scoped>\n",
              "    .dataframe tbody tr th:only-of-type {\n",
              "        vertical-align: middle;\n",
              "    }\n",
              "\n",
              "    .dataframe tbody tr th {\n",
              "        vertical-align: top;\n",
              "    }\n",
              "\n",
              "    .dataframe thead th {\n",
              "        text-align: right;\n",
              "    }\n",
              "</style>\n",
              "<table border=\"1\" class=\"dataframe\">\n",
              "  <thead>\n",
              "    <tr style=\"text-align: right;\">\n",
              "      <th></th>\n",
              "      <th>ProductType</th>\n",
              "      <th>Manufacturer</th>\n",
              "      <th>Area Code</th>\n",
              "      <th>Sourcing Channel</th>\n",
              "      <th>Product Size</th>\n",
              "      <th>Product Type</th>\n",
              "      <th>Sourcing Cost</th>\n",
              "    </tr>\n",
              "    <tr>\n",
              "      <th>Month of Sourcing</th>\n",
              "      <th></th>\n",
              "      <th></th>\n",
              "      <th></th>\n",
              "      <th></th>\n",
              "      <th></th>\n",
              "      <th></th>\n",
              "      <th></th>\n",
              "    </tr>\n",
              "  </thead>\n",
              "  <tbody>\n",
              "    <tr>\n",
              "      <th>2021-05-01</th>\n",
              "      <td>2</td>\n",
              "      <td>0</td>\n",
              "      <td>19</td>\n",
              "      <td>3</td>\n",
              "      <td>1</td>\n",
              "      <td>1</td>\n",
              "      <td>10.16</td>\n",
              "    </tr>\n",
              "    <tr>\n",
              "      <th>2021-05-01</th>\n",
              "      <td>2</td>\n",
              "      <td>0</td>\n",
              "      <td>16</td>\n",
              "      <td>0</td>\n",
              "      <td>2</td>\n",
              "      <td>1</td>\n",
              "      <td>64.46</td>\n",
              "    </tr>\n",
              "    <tr>\n",
              "      <th>2021-05-01</th>\n",
              "      <td>1</td>\n",
              "      <td>0</td>\n",
              "      <td>2</td>\n",
              "      <td>0</td>\n",
              "      <td>1</td>\n",
              "      <td>0</td>\n",
              "      <td>151.70</td>\n",
              "    </tr>\n",
              "    <tr>\n",
              "      <th>2021-05-01</th>\n",
              "      <td>0</td>\n",
              "      <td>0</td>\n",
              "      <td>44</td>\n",
              "      <td>0</td>\n",
              "      <td>1</td>\n",
              "      <td>1</td>\n",
              "      <td>146.98</td>\n",
              "    </tr>\n",
              "    <tr>\n",
              "      <th>2021-05-01</th>\n",
              "      <td>2</td>\n",
              "      <td>0</td>\n",
              "      <td>16</td>\n",
              "      <td>0</td>\n",
              "      <td>2</td>\n",
              "      <td>1</td>\n",
              "      <td>73.15</td>\n",
              "    </tr>\n",
              "    <tr>\n",
              "      <th>...</th>\n",
              "      <td>...</td>\n",
              "      <td>...</td>\n",
              "      <td>...</td>\n",
              "      <td>...</td>\n",
              "      <td>...</td>\n",
              "      <td>...</td>\n",
              "      <td>...</td>\n",
              "    </tr>\n",
              "    <tr>\n",
              "      <th>2020-07-01</th>\n",
              "      <td>0</td>\n",
              "      <td>1</td>\n",
              "      <td>36</td>\n",
              "      <td>0</td>\n",
              "      <td>2</td>\n",
              "      <td>1</td>\n",
              "      <td>157.09</td>\n",
              "    </tr>\n",
              "    <tr>\n",
              "      <th>2020-07-01</th>\n",
              "      <td>0</td>\n",
              "      <td>1</td>\n",
              "      <td>37</td>\n",
              "      <td>0</td>\n",
              "      <td>1</td>\n",
              "      <td>0</td>\n",
              "      <td>0.00</td>\n",
              "    </tr>\n",
              "    <tr>\n",
              "      <th>2020-07-01</th>\n",
              "      <td>0</td>\n",
              "      <td>0</td>\n",
              "      <td>21</td>\n",
              "      <td>0</td>\n",
              "      <td>2</td>\n",
              "      <td>1</td>\n",
              "      <td>136.92</td>\n",
              "    </tr>\n",
              "    <tr>\n",
              "      <th>2020-07-01</th>\n",
              "      <td>0</td>\n",
              "      <td>1</td>\n",
              "      <td>13</td>\n",
              "      <td>0</td>\n",
              "      <td>2</td>\n",
              "      <td>1</td>\n",
              "      <td>71.85</td>\n",
              "    </tr>\n",
              "    <tr>\n",
              "      <th>2020-07-01</th>\n",
              "      <td>1</td>\n",
              "      <td>0</td>\n",
              "      <td>40</td>\n",
              "      <td>0</td>\n",
              "      <td>1</td>\n",
              "      <td>1</td>\n",
              "      <td>136.47</td>\n",
              "    </tr>\n",
              "  </tbody>\n",
              "</table>\n",
              "<p>550176 rows × 7 columns</p>\n",
              "</div>"
            ],
            "text/plain": [
              "                   ProductType  Manufacturer  ...  Product Type  Sourcing Cost\n",
              "Month of Sourcing                             ...                             \n",
              "2021-05-01                   2             0  ...             1          10.16\n",
              "2021-05-01                   2             0  ...             1          64.46\n",
              "2021-05-01                   1             0  ...             0         151.70\n",
              "2021-05-01                   0             0  ...             1         146.98\n",
              "2021-05-01                   2             0  ...             1          73.15\n",
              "...                        ...           ...  ...           ...            ...\n",
              "2020-07-01                   0             1  ...             1         157.09\n",
              "2020-07-01                   0             1  ...             0           0.00\n",
              "2020-07-01                   0             0  ...             1         136.92\n",
              "2020-07-01                   0             1  ...             1          71.85\n",
              "2020-07-01                   1             0  ...             1         136.47\n",
              "\n",
              "[550176 rows x 7 columns]"
            ]
          },
          "metadata": {
            "tags": []
          },
          "execution_count": 21
        }
      ]
    },
    {
      "cell_type": "markdown",
      "metadata": {
        "id": "8gSCYB-L-Rym"
      },
      "source": [
        "## **Model training**"
      ]
    },
    {
      "cell_type": "code",
      "metadata": {
        "colab": {
          "base_uri": "https://localhost:8080/"
        },
        "id": "-Fs2ux6f-ayX",
        "outputId": "070b66f9-6630-48b0-e609-60535e9f7aa8"
      },
      "source": [
        "# Configure the neural network model\n",
        "model = Sequential()\n",
        "\n",
        "# Model with n_neurons = inputshape Timestamps, each with x_train.shape[2] variables\n",
        "n_neurons = X_train.shape[1] * X_train.shape[2]\n",
        "print(n_neurons, X_train.shape[1])\n",
        "model.add(LSTM(n_neurons, return_sequences=True, input_shape=(X_train.shape[1], X_train.shape[2]))) \n",
        "model.add(LSTM(n_neurons, return_sequences=False))\n",
        "model.add(Dropout(rate=0.2))\n",
        "model.add(Dense(5))\n",
        "model.add(Dense(1))\n",
        "\n",
        "# Compile the model\n",
        "model.compile(optimizer='adam', loss='mse')\n",
        "\n",
        "model.summary()"
      ],
      "execution_count": 22,
      "outputs": [
        {
          "output_type": "stream",
          "text": [
            "49 7\n",
            "Model: \"sequential\"\n",
            "_________________________________________________________________\n",
            "Layer (type)                 Output Shape              Param #   \n",
            "=================================================================\n",
            "lstm (LSTM)                  (None, 100, 49)           11172     \n",
            "_________________________________________________________________\n",
            "lstm_1 (LSTM)                (None, 49)                19404     \n",
            "_________________________________________________________________\n",
            "dropout (Dropout)            (None, 49)                0         \n",
            "_________________________________________________________________\n",
            "dense (Dense)                (None, 5)                 250       \n",
            "_________________________________________________________________\n",
            "dense_1 (Dense)              (None, 1)                 6         \n",
            "=================================================================\n",
            "Total params: 30,832\n",
            "Trainable params: 30,832\n",
            "Non-trainable params: 0\n",
            "_________________________________________________________________\n"
          ],
          "name": "stdout"
        }
      ]
    },
    {
      "cell_type": "code",
      "metadata": {
        "colab": {
          "base_uri": "https://localhost:8080/"
        },
        "id": "NkQpWswu-iPO",
        "outputId": "c8bc02ba-8911-47a2-bd19-91308e7d4194"
      },
      "source": [
        "# Training the model\n",
        "# we can try better epochs and batch_size using keras tunner.\n",
        "epochs = 10\n",
        "batch_size = 3000\n",
        "early_stop = EarlyStopping(monitor='loss', patience=5, verbose=1)\n",
        "history = model.fit(X_train, y_train, \n",
        "                    batch_size=batch_size, \n",
        "                    epochs=epochs,\n",
        "                    validation_data=(X_test, y_test)\n",
        "                   )"
      ],
      "execution_count": 25,
      "outputs": [
        {
          "output_type": "stream",
          "text": [
            "Epoch 1/10\n",
            "147/147 [==============================] - 440s 3s/step - loss: 1.6992 - val_loss: 0.8384\n",
            "Epoch 2/10\n",
            "147/147 [==============================] - 434s 3s/step - loss: 1.6976 - val_loss: 0.8325\n",
            "Epoch 3/10\n",
            "147/147 [==============================] - 432s 3s/step - loss: 1.6972 - val_loss: 0.8307\n",
            "Epoch 4/10\n",
            "147/147 [==============================] - 432s 3s/step - loss: 1.6972 - val_loss: 0.8301\n",
            "Epoch 5/10\n",
            "147/147 [==============================] - 431s 3s/step - loss: 1.6972 - val_loss: 0.8298\n",
            "Epoch 6/10\n",
            "147/147 [==============================] - 434s 3s/step - loss: 1.6972 - val_loss: 0.8297\n",
            "Epoch 7/10\n",
            "147/147 [==============================] - 431s 3s/step - loss: 1.6972 - val_loss: 0.8298\n",
            "Epoch 8/10\n",
            "147/147 [==============================] - 431s 3s/step - loss: 1.6971 - val_loss: 0.8300\n",
            "Epoch 9/10\n",
            "147/147 [==============================] - 432s 3s/step - loss: 1.6971 - val_loss: 0.8297\n",
            "Epoch 10/10\n",
            "147/147 [==============================] - 433s 3s/step - loss: 1.6967 - val_loss: 0.8200\n"
          ],
          "name": "stdout"
        }
      ]
    },
    {
      "cell_type": "code",
      "metadata": {
        "id": "d0WlztDvyLPk",
        "colab": {
          "base_uri": "https://localhost:8080/",
          "height": 163
        },
        "outputId": "a93a326e-e445-495d-e170-b671665d8765"
      },
      "source": [
        "model.save('/content/drive/MyDrive/temp/time_series_model.h5')"
      ],
      "execution_count": 2,
      "outputs": [
        {
          "output_type": "error",
          "ename": "NameError",
          "evalue": "ignored",
          "traceback": [
            "\u001b[0;31m---------------------------------------------------------------------------\u001b[0m",
            "\u001b[0;31mNameError\u001b[0m                                 Traceback (most recent call last)",
            "\u001b[0;32m<ipython-input-2-dba577017167>\u001b[0m in \u001b[0;36m<module>\u001b[0;34m()\u001b[0m\n\u001b[0;32m----> 1\u001b[0;31m \u001b[0mmodel\u001b[0m\u001b[0;34m.\u001b[0m\u001b[0msave\u001b[0m\u001b[0;34m(\u001b[0m\u001b[0;34m'/content/drive/MyDrive/temp/time_series_model.h5'\u001b[0m\u001b[0;34m)\u001b[0m\u001b[0;34m\u001b[0m\u001b[0;34m\u001b[0m\u001b[0m\n\u001b[0m",
            "\u001b[0;31mNameError\u001b[0m: name 'model' is not defined"
          ]
        }
      ]
    },
    {
      "cell_type": "code",
      "metadata": {
        "id": "4NR-TJzx3kj6"
      },
      "source": [
        "test_data = pd.read_csv('/content/drive/MyDrive/temp/test.csv')"
      ],
      "execution_count": 5,
      "outputs": []
    },
    {
      "cell_type": "code",
      "metadata": {
        "id": "cVjpqPho01Fb"
      },
      "source": [
        "#pre-processing the data.\n",
        "le = preprocessing.LabelEncoder()\n",
        "test_data['ProductType']  = le.fit_transform(test_data['ProductType'])\n",
        "test_data['Manufacturer']  = le.fit_transform(test_data['Manufacturer'])\n",
        "test_data['Area Code']  = le.fit_transform(test_data['Area Code'])\n",
        "test_data['Sourcing Channel']  = le.fit_transform(test_data['Sourcing Channel'])\n",
        "test_data['Product Size']  = le.fit_transform(test_data['Product Size'])\n",
        "test_data['Product Type']  = le.fit_transform(test_data['Product Type'])\n",
        "test_data['Month of Sourcing'] = pd.to_datetime([f'20{y}-{m}-01' for y, m in zip(test_data['Month of Sourcing'].str.split('-').str[1], test_data['Month of Sourcing'].str.split('-').str[0])])\n",
        "test_data = test_data.set_index('Month of Sourcing')"
      ],
      "execution_count": 7,
      "outputs": []
    },
    {
      "cell_type": "code",
      "metadata": {
        "id": "V5fgCtda40fI"
      },
      "source": [
        "cols = [col for col in test_data.columns if 'Sourcing Cost' not in col]\n",
        "f_transformer = preprocessing.RobustScaler()\n",
        "f_transformer = f_transformer.fit(test_data[cols].to_numpy())\n",
        "test_data.loc[:, cols] = f_transformer.transform(\n",
        "  test_data[cols].to_numpy()\n",
        ")"
      ],
      "execution_count": 9,
      "outputs": []
    },
    {
      "cell_type": "code",
      "metadata": {
        "colab": {
          "base_uri": "https://localhost:8080/"
        },
        "id": "OFkjkDdP8Coj",
        "outputId": "fbc958b6-ec64-4073-95e6-bde8bc0c7a30"
      },
      "source": [
        "test_data.shape"
      ],
      "execution_count": 10,
      "outputs": [
        {
          "output_type": "execute_result",
          "data": {
            "text/plain": [
              "(96, 7)"
            ]
          },
          "metadata": {
            "tags": []
          },
          "execution_count": 10
        }
      ]
    },
    {
      "cell_type": "code",
      "metadata": {
        "id": "Qt8nqCCK7bhc"
      },
      "source": [
        "X_test_data, y_test_data = create_dataset(test_data, test_data['Sourcing Cost'],)"
      ],
      "execution_count": 57,
      "outputs": []
    },
    {
      "cell_type": "code",
      "metadata": {
        "colab": {
          "base_uri": "https://localhost:8080/"
        },
        "id": "yEOrmB2e8CGQ",
        "outputId": "21df02f8-69ac-4240-d8dc-a436fc68f13c"
      },
      "source": [
        "X_test_data.shape"
      ],
      "execution_count": 49,
      "outputs": [
        {
          "output_type": "execute_result",
          "data": {
            "text/plain": [
              "(95, 2, 7)"
            ]
          },
          "metadata": {
            "tags": []
          },
          "execution_count": 49
        }
      ]
    },
    {
      "cell_type": "code",
      "metadata": {
        "id": "YTfE9-puMOxr"
      },
      "source": [
        "model = load_model('/content/drive/MyDrive/temp/time_series_model.h5')"
      ],
      "execution_count": 58,
      "outputs": []
    },
    {
      "cell_type": "code",
      "metadata": {
        "colab": {
          "base_uri": "https://localhost:8080/"
        },
        "id": "e-3Pf8su0vdW",
        "outputId": "d5059fff-7ee0-450a-e944-4f30bdb47947"
      },
      "source": [
        "forecast = model.predict(X_test_data) #forecast \n",
        "print(forecast.shape)\n",
        "#Perform inverse transformation to rescale back to original range\n",
        "#Since we used 5 variables for transform, the inverse expects same dimensions\n",
        "#Therefore, let us copy our values 5 times and discard them after inverse transform\n",
        "forecast_copies = np.repeat(forecast, X_test_data.shape[1], axis=-1)\n",
        "# forecast_copies = forecast_copies.reshape(X_test_data.shape[1])\n",
        "# print(forecast_copies)\n",
        "y_pred_future = cost_transformer.inverse_transform(forecast_copies)"
      ],
      "execution_count": 59,
      "outputs": [
        {
          "output_type": "stream",
          "text": [
            "WARNING:tensorflow:Model was constructed with shape (None, 100, 7) for input KerasTensor(type_spec=TensorSpec(shape=(None, 100, 7), dtype=tf.float32, name='lstm_input'), name='lstm_input', description=\"created by layer 'lstm_input'\"), but it was called on an input with incompatible shape (None, 1, 7).\n",
            "(95, 1)\n"
          ],
          "name": "stdout"
        }
      ]
    },
    {
      "cell_type": "code",
      "metadata": {
        "id": "pKZJxymS-nHt"
      },
      "source": [
        "# Plot training & validation loss values\n",
        "fig, ax = plt.subplots(figsize=(20, 10), sharex=True)\n",
        "plt.plot(history.history[\"loss\"])\n",
        "plt.title(\"Model loss\")\n",
        "plt.ylabel(\"Loss\")\n",
        "plt.xlabel(\"Epoch\")\n",
        "ax.xaxis.set_major_locator(plt.MaxNLocator(epochs))\n",
        "plt.legend([\"Train\", \"Test\"], loc=\"upper left\")\n",
        "plt.grid()\n",
        "plt.show()"
      ],
      "execution_count": null,
      "outputs": []
    },
    {
      "cell_type": "markdown",
      "metadata": {
        "id": "0MuRvhCx-qum"
      },
      "source": [
        "# Evaluate Model Performance"
      ]
    },
    {
      "cell_type": "code",
      "metadata": {
        "id": "BjHLfYpzQtsK"
      },
      "source": [
        "y_test_data = test_data['Sourcing Cost'].iloc[0:y_pred_future.shape[0]]\n",
        "y_test_data.shape\n",
        "y_pred_future = y_pred_future.reshape(y_pred_future.shape[0])"
      ],
      "execution_count": 75,
      "outputs": []
    },
    {
      "cell_type": "code",
      "metadata": {
        "id": "NYKSaiPR-xny",
        "colab": {
          "base_uri": "https://localhost:8080/"
        },
        "outputId": "7942584b-d46f-4ed0-d1e5-8ef297a43ce0"
      },
      "source": [
        "\n",
        "# Mean Absolute Error (MAE)\n",
        "MAE = mean_absolute_error(y_test_data, y_pred_future)\n",
        "print(f'Median Absolute Error (MAE): {np.round(MAE, 2)}')\n",
        "\n",
        "# Mean Absolute Percentage Error (MAPE)\n",
        "MAPE = np.mean((np.abs(np.subtract(y_test_data, y_pred_future)/ y_test_data))) * 100\n",
        "print(f'Mean Absolute Percentage Error (MAPE): {np.round(MAPE, 2)} %')\n",
        "\n",
        "# Median Absolute Percentage Error (MDAPE)\n",
        "MDAPE = np.median((np.abs(np.subtract(y_test_data, y_pred_future)/ y_test_data)) ) * 100\n",
        "print(f'Median Absolute Percentage Error (MDAPE): {np.round(MDAPE, 2)} %')"
      ],
      "execution_count": 76,
      "outputs": [
        {
          "output_type": "stream",
          "text": [
            "Median Absolute Error (MAE): 44.49\n",
            "Mean Absolute Percentage Error (MAPE): 111.79 %\n",
            "Median Absolute Percentage Error (MDAPE): 28.57 %\n"
          ],
          "name": "stdout"
        }
      ]
    },
    {
      "cell_type": "markdown",
      "metadata": {
        "id": "-1vdJA4HTjSl"
      },
      "source": [
        "### As I have tried both machine learning and deep learning models. we can try to hypermatter for deep learning model to increase the accuracy. For now  machine learning algorithm given best accuracy so selecting machine learning algorithm."
      ]
    }
  ]
}